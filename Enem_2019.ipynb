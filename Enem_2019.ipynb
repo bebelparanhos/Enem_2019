{
 "cells": [
  {
   "cell_type": "markdown",
   "metadata": {
    "slideshow": {
     "slide_type": "notes"
    }
   },
   "source": [
    "<h1 align=\"center\"> Análise Exploratória de Dados <br> Exame Nacional do Ensino Médio (ENEM) <br> Ano de 2019 </h1>"
   ]
  },
  {
   "cell_type": "markdown",
   "metadata": {},
   "source": [
    "<h2> Neste documento iremos explorar os dados do Enem para geramos alguns insights sobre a situação geral dos inscritos.<br>\n",
    " Iremos explorar os dados relacionando com as Notas em Ciências Humanas (CH), Ciências Naturais (CN), Línguas e Códigos (LC), Matemática (MT) e Redação</h2>"
   ]
  },
  {
   "cell_type": "code",
   "execution_count": 2,
   "metadata": {},
   "outputs": [],
   "source": [
    "import pandas as pd\n",
    "from matplotlib import pyplot as plt\n",
    "import seaborn as sns\n",
    "import math \n",
    "import numpy as np"
   ]
  },
  {
   "cell_type": "code",
   "execution_count": 3,
   "metadata": {},
   "outputs": [],
   "source": [
    "from zipfile import ZipFile"
   ]
  },
  {
   "cell_type": "code",
   "execution_count": 4,
   "metadata": {},
   "outputs": [],
   "source": [
    "file_name = \"Enem_2019_SP.zip\"\n",
    "with ZipFile(file_name,\"r\") as zip:\n",
    "    file = zip.open(\"Enem_2019_SP.csv\")"
   ]
  },
  {
   "cell_type": "code",
   "execution_count": 5,
   "metadata": {},
   "outputs": [],
   "source": [
    "dados_enem = pd.read_csv(file, sep=\";\", encoding=\"Latin 1\")"
   ]
  },
  {
   "cell_type": "code",
   "execution_count": null,
   "metadata": {},
   "outputs": [],
   "source": [
    "file.close()"
   ]
  },
  {
   "cell_type": "code",
   "execution_count": null,
   "metadata": {},
   "outputs": [],
   "source": [
    "pd.__version__"
   ]
  },
  {
   "cell_type": "code",
   "execution_count": null,
   "metadata": {},
   "outputs": [],
   "source": [
    "#dados_enem = pd.read_csv(\"ENEM_2019_SP.csv\", sep=\";\", encoding=\"Latin 1\")\n",
    "dados_enem.info()"
   ]
  },
  {
   "cell_type": "code",
   "execution_count": null,
   "metadata": {},
   "outputs": [],
   "source": [
    "dados_enem.head(5)"
   ]
  },
  {
   "cell_type": "markdown",
   "metadata": {},
   "source": [
    "<h3 align=\"center\">Analise Estatistica das Notas</h3>\n",
    "<h4> Os registros dos inscritos que não compareceram nenhuma das provas serão excluídos para que possamos ter uma análise com menos interferências.\n",
    "Algumas variáveis que não serão utilizadas também serão excluídas</h4>"
   ]
  },
  {
   "cell_type": "code",
   "execution_count": null,
   "metadata": {},
   "outputs": [],
   "source": [
    "columns = ['CO_MUNICIPIO_RESIDENCIA', 'CO_UF_RESIDENCIA', 'SG_UF_RESIDENCIA', 'CO_MUNICIPIO_NASCIMENTO', 'CO_UF_NASCIMENTO', \n",
    "          'CO_ESCOLA', 'CO_MUNICIPIO_ESC', 'SG_UF_ESC', 'CO_UF_ESC', 'CO_MUNICIPIO_PROVA', 'SG_UF_PROVA',\n",
    "          'CO_PROVA_CN', 'CO_PROVA_CH', 'CO_PROVA_LC', 'CO_PROVA_MT', 'TX_RESPOSTAS_CN', 'TX_RESPOSTAS_CH','TX_RESPOSTAS_LC',\n",
    "          'TX_RESPOSTAS_MT', 'TX_GABARITO_CN','TX_GABARITO_CH','TX_GABARITO_LC','TX_GABARITO_MT']\n",
    "dados_enem.drop(columns = columns, inplace=True) "
   ]
  },
  {
   "cell_type": "code",
   "execution_count": null,
   "metadata": {},
   "outputs": [],
   "source": [
    "dados_enem.isnull().sum()[['NO_MUNICIPIO_NASCIMENTO','NO_MUNICIPIO_ESC','TP_STATUS_REDACAO', 'NU_NOTA_COMP1',\n",
    "       'NU_NOTA_COMP2', 'NU_NOTA_COMP3', 'NU_NOTA_COMP4', 'NU_NOTA_COMP5', 'NU_NOTA_CN', 'NU_NOTA_CH', 'NU_NOTA_LC',\n",
    "       'NU_NOTA_MT', 'NU_NOTA_REDACAO']]"
   ]
  },
  {
   "cell_type": "code",
   "execution_count": null,
   "metadata": {},
   "outputs": [],
   "source": [
    "dados_enem[dados_enem.isnull().T.any()][['NU_NOTA_CN','NU_NOTA_CH','NU_NOTA_LC','NU_NOTA_MT', 'NU_NOTA_REDACAO']]"
   ]
  },
  {
   "cell_type": "code",
   "execution_count": null,
   "metadata": {},
   "outputs": [],
   "source": [
    "#values = {'NU_NOTA_CN' : 0, \"NU_NOTA_CH\" : 0, \"NU_NOTA_LC\" : 0, \"NU_NOTA_MT\" : 0, \"NU_NOTA_REDACAO\" : 0, \n",
    "#         'NU_NOTA_COMP1': 0,'NU_NOTA_COMP2': 0, 'NU_NOTA_COMP3' : 0, 'NU_NOTA_COMP4' : 0, 'NU_NOTA_COMP5' : 0}\n",
    "#dados_enem.fillna(value = values, inplace=True)"
   ]
  },
  {
   "cell_type": "code",
   "execution_count": null,
   "metadata": {},
   "outputs": [],
   "source": [
    "dados_enem.query(\"TP_PRESENCA_CN == 0 and TP_PRESENCA_CH == 0 and TP_PRESENCA_LC == 0 and TP_PRESENCA_MT == 0\")\\\n",
    "[['TP_PRESENCA_CN','TP_PRESENCA_CH','TP_PRESENCA_LC','TP_PRESENCA_MT',\n",
    "  'NU_NOTA_CN','NU_NOTA_CH','NU_NOTA_LC','NU_NOTA_MT', 'NU_NOTA_REDACAO']]"
   ]
  },
  {
   "cell_type": "code",
   "execution_count": null,
   "metadata": {},
   "outputs": [],
   "source": [
    "dados_enem.query(\"TP_PRESENCA_CN == 0 and TP_PRESENCA_CH == 0 and TP_PRESENCA_LC == 0 and TP_PRESENCA_MT == 0\")\\\n",
    ".groupby([\"IN_TREINEIRO\", \"TP_ST_CONCLUSAO\"])[\"NU_INSCRICAO\"].count()"
   ]
  },
  {
   "cell_type": "code",
   "execution_count": null,
   "metadata": {},
   "outputs": [],
   "source": [
    "dados_enem.query(\"IN_TREINEIRO == 1\").groupby(\"IN_TREINEIRO\").count()"
   ]
  },
  {
   "cell_type": "code",
   "execution_count": null,
   "metadata": {},
   "outputs": [],
   "source": [
    "dados_enem.drop(dados_enem.query(\"TP_PRESENCA_CN == 0 and TP_PRESENCA_CH == 0 and TP_PRESENCA_LC == 0 and TP_PRESENCA_MT == 0\").index, inplace=True)"
   ]
  },
  {
   "cell_type": "markdown",
   "metadata": {},
   "source": [
    "<h3>Feature Enginnering</h3>"
   ]
  },
  {
   "cell_type": "code",
   "execution_count": null,
   "metadata": {},
   "outputs": [],
   "source": [
    "corraca = {\n",
    "0: \"Não declarado\",\n",
    "1: \"Branca\",\n",
    "2: \"Preta\",\n",
    "3: \"Parda\",\n",
    "4: \"Amarela\",\n",
    "5: \"Indígena \"    \n",
    "}\n",
    "#corraca[2]\n",
    "dados_enem[\"NO_COR_RACA\"] = [corraca[i] for i in dados_enem.TP_COR_RACA]"
   ]
  },
  {
   "cell_type": "code",
   "execution_count": null,
   "metadata": {},
   "outputs": [],
   "source": [
    "dados_enem[[\"NO_COR_RACA\", \"TP_COR_RACA\"]].head()"
   ]
  },
  {
   "cell_type": "code",
   "execution_count": null,
   "metadata": {},
   "outputs": [],
   "source": [
    "tipo_escola = {\n",
    "1 : \"Não Respondeu\",\n",
    "2 : \"Pública\",\n",
    "3 : \"Privada\",\n",
    "4 : \"Exterior\"  \n",
    "}\n",
    "#corraca[2]\n",
    "dados_enem[\"NO_TP_ESCOLA\"] = [tipo_escola[i] for i in dados_enem.TP_ESCOLA]"
   ]
  },
  {
   "cell_type": "code",
   "execution_count": null,
   "metadata": {},
   "outputs": [],
   "source": [
    "estado_civil = {\n",
    "0: \"Não informado\",\n",
    "1: \"Solteiro(a)\",\n",
    "2: \"Casado(a)/Mora com companheiro(a)\",\n",
    "3: \"Divorciado(a)/Desquitado(a)/Separado(a)\",\n",
    "4: \"Viúvo(a)\"\n",
    "}\n",
    "\n",
    "dados_enem[\"NO_ESTADO_CIVIL\"] = [estado_civil[i] for i in dados_enem.TP_ESTADO_CIVIL]\n"
   ]
  },
  {
   "cell_type": "code",
   "execution_count": null,
   "metadata": {},
   "outputs": [],
   "source": [
    "questionario_notas = dados_enem[[\"NU_INSCRICAO\",\"TP_COR_RACA\",\"NO_COR_RACA\",\"TP_ESCOLA\", \"NO_TP_ESCOLA\",\"Q001\",\"Q002\",\"Q003\",\"Q004\",\"Q005\",\"Q006\",\"Q024\",\"Q025\",\\\n",
    "                                 \"NU_NOTA_CN\",\"NU_NOTA_CH\",\"NU_NOTA_LC\",\"NU_NOTA_MT\",\"NU_NOTA_REDACAO\"]]\\\n",
    "                                .sort_values([\"TP_ESCOLA\",\"Q001\",\"Q002\",\"Q003\",\"Q004\",\"Q005\",\"Q006\",\"Q024\",\"Q025\"])\n",
    "#questionario_notas = questionario_notas.astype({\"TP_ESCOLA\":\"category\", \"TP_DEPENDENCIA_ADM_ESC\":\"category\",\"TP_LOCALIZACAO_ESC\":\"category\"})\n",
    "#questionario_notas.info()"
   ]
  },
  {
   "cell_type": "code",
   "execution_count": null,
   "metadata": {},
   "outputs": [],
   "source": [
    "questionario_notas[[\"NU_NOTA_CN\",\"NU_NOTA_CH\",\"NU_NOTA_LC\",\"NU_NOTA_MT\",\"NU_NOTA_REDACAO\"]].describe()"
   ]
  },
  {
   "cell_type": "code",
   "execution_count": null,
   "metadata": {},
   "outputs": [],
   "source": [
    "notas = questionario_notas[[\"NU_NOTA_MT\", \"NU_NOTA_CN\", \"NU_NOTA_CH\", \"NU_NOTA_LC\", \"NU_NOTA_REDACAO\"]]\n",
    "\n",
    "plt.figure(figsize=(12,8))\n",
    "sns.boxplot(data=notas)\n",
    "plt.title(\"Boxplot de Notas\")\n",
    "plt.show()"
   ]
  },
  {
   "cell_type": "markdown",
   "metadata": {},
   "source": [
    "<h3 align=\"center\"> Análise de Notas de acordo com a Renda Familiar </h3>"
   ]
  },
  {
   "cell_type": "markdown",
   "metadata": {},
   "source": [
    "<p> Nas tabelas abaixo, temos as estatísticas de notas de cada prova de acordo com a Renda Familiar Mensal.<br>\n",
    "A Renda Mensal está categorisada de A a Q, onde A é a renda mais baixa e Q a renda mais alta</p>\n",
    "<p> Nesta análise, podemos observar que, de acordo com os dados, a renda familiar mensal influencia na média das notas.</p>"
   ]
  },
  {
   "cell_type": "code",
   "execution_count": null,
   "metadata": {},
   "outputs": [],
   "source": [
    "questionario_notas.groupby(\"Q006\")[[\"NU_NOTA_CN\",\"NU_NOTA_CH\"]].describe()"
   ]
  },
  {
   "cell_type": "code",
   "execution_count": null,
   "metadata": {},
   "outputs": [],
   "source": [
    "questionario_notas.groupby(\"Q006\")[[\"NU_NOTA_LC\",\"NU_NOTA_MT\"]].describe()"
   ]
  },
  {
   "cell_type": "code",
   "execution_count": null,
   "metadata": {},
   "outputs": [],
   "source": [
    "questionario_notas.groupby(\"Q006\")[[\"NU_NOTA_REDACAO\"]].describe()"
   ]
  },
  {
   "cell_type": "markdown",
   "metadata": {},
   "source": [
    "<h3 align=\"center\"> Media de notas por renda </h3>"
   ]
  },
  {
   "cell_type": "code",
   "execution_count": null,
   "metadata": {},
   "outputs": [],
   "source": [
    "questionario_notas.groupby(\"Q006\")[[\"NU_NOTA_CN\",\"NU_NOTA_CH\",\"NU_NOTA_LC\",\"NU_NOTA_MT\",\"NU_NOTA_REDACAO\"]].mean().plot(figsize=(10,5))"
   ]
  },
  {
   "cell_type": "code",
   "execution_count": null,
   "metadata": {},
   "outputs": [],
   "source": [
    "sns.set()\n",
    "fig, axes = plt.subplots(ncols=2, nrows=2, figsize=(15, 10), sharey=True)\n",
    "fig.suptitle(\"Distribuição de Notas de acordo com a Renda Mensal Familiar por prova \", fontsize=24)\n",
    "\n",
    "x = \"Q006\"\n",
    "orderby = sorted(questionario_notas[\"Q006\"].unique())\n",
    "palette = \"gist_ncar_r\"\n",
    "sns.boxplot(ax=axes[0,0], x=x, y=\"NU_NOTA_CN\", data=questionario_notas, order=orderby, palette=palette)\n",
    "axes[0,0].set_title(\"Ciências Naturais\")\n",
    "axes[0,0].set_xlabel(\"\")\n",
    "axes[0,0].set_ylabel(\"\")\n",
    "\n",
    "sns.boxplot(ax=axes[0,1], x=x, y=\"NU_NOTA_CH\", data=questionario_notas, order=orderby, palette=palette)\n",
    "axes[0,1].set_title(\"Ciências Humanas\")\n",
    "axes[0,1].set_xlabel(\"\")\n",
    "axes[0,1].set_ylabel(\"\")\n",
    "\n",
    "sns.boxplot(ax=axes[1,0], x=x, y=\"NU_NOTA_LC\", data=questionario_notas, order=orderby, palette=palette)\n",
    "axes[1,0].set_title(\"Línguas e Códigos\")\n",
    "axes[1,0].set_xlabel(\"\")\n",
    "axes[1,0].set_ylabel(\"\")\n",
    "\n",
    "sns.boxplot(ax=axes[1,1], x=x, y=\"NU_NOTA_MT\", data=questionario_notas, order=orderby, palette=palette)\n",
    "axes[1,1].set_title(\"Matemática\")\n",
    "axes[1,1].set_xlabel(\"\")\n",
    "axes[1,1].set_ylabel(\"\")\n",
    "\n",
    "plt.show()"
   ]
  },
  {
   "cell_type": "code",
   "execution_count": null,
   "metadata": {},
   "outputs": [],
   "source": [
    "fig, ax = plt.subplots(figsize=(10, 8))\n",
    "\n",
    "fig.suptitle(\"Distribuição de Notas de acordo com a Renda Mensal Familiar na prova de Redação \", fontsize=24)\n",
    "sns.boxplot(x=x, y=\"NU_NOTA_REDACAO\", data=questionario_notas, order=orderby, palette=palette)\n",
    "ax.set_title(\"Redação\")\n",
    "ax.set_xlabel(\"\")\n",
    "ax.set_xlabel(\"\")\n",
    "plt.show()"
   ]
  },
  {
   "cell_type": "markdown",
   "metadata": {},
   "source": [
    "<p>De acordo com os gráficos acima, podemos ver que, conforme a Renda Familiar aumenta, a nota dos inscritos aumenta.\n",
    "Nas próximas análises, vamos verificar a correlação entre o tipo de escola e as notas dos inscritos. Vamos analisar também a situação dos outliers. Por que, um aluno de escola particular com uma renda mensal alta, teve notas abaixo da média? Qual a situação socio-economica dos inscritos de baixa renda com pontuação alta?\n",
    "Essas e outras perguntas serão respondidas nas analises a seguir\n",
    "</p>"
   ]
  },
  {
   "cell_type": "markdown",
   "metadata": {},
   "source": [
    "<h3 align=\"center\">Análise de notas por tipo de escola</h3>"
   ]
  },
  {
   "cell_type": "code",
   "execution_count": null,
   "metadata": {},
   "outputs": [],
   "source": [
    "media_por_tipo_escola = questionario_notas.groupby([\"NO_TP_ESCOLA\",\"TP_ESCOLA\"])[[\"NU_NOTA_CN\",\"NU_NOTA_CH\",\"NU_NOTA_LC\",\"NU_NOTA_MT\",\"NU_NOTA_REDACAO\"]].mean().reset_index()\n",
    "media_por_tipo_escola = media_por_tipo_escola.astype({\"TP_ESCOLA\":\"category\"})\n",
    "media_por_tipo_escola"
   ]
  },
  {
   "cell_type": "code",
   "execution_count": null,
   "metadata": {},
   "outputs": [],
   "source": [
    "chart = sns.catplot(data=media_por_tipo_escola, col=\"NO_TP_ESCOLA\", kind=\"bar\")\n",
    "plt.subplots_adjust(top=0.8)\n",
    "plt.suptitle(\"Média das Notas por Tipo de Escola\")\n",
    "chart.set_xticklabels(rotation=45)\n",
    "\n",
    "plt.show()"
   ]
  },
  {
   "cell_type": "markdown",
   "metadata": {},
   "source": [
    "<p>Escolas tipo 2 e 3 são, respectivamente, Pública e Privada.\n",
    "Por este gráfico podemos ver uma diferença significante nas notas dos alunos que estudam em escola publica e os de escola privada\n",
    "</p>"
   ]
  },
  {
   "cell_type": "code",
   "execution_count": null,
   "metadata": {},
   "outputs": [],
   "source": [
    "sns.set()\n",
    "fig, axes = plt.subplots(ncols=2, nrows=2, figsize=(15, 10), sharey=True, sharex=True)\n",
    "fig.suptitle(\"Distribuição de Notas de acordo com o Tipo de Escola por prova \", fontsize=24)\n",
    "\n",
    "x = \"NO_TP_ESCOLA\"\n",
    "palette = \"gist_ncar_r\"\n",
    "sns.boxplot(ax=axes[0,0], x=x, y=\"NU_NOTA_CN\", data=questionario_notas.query(\"TP_ESCOLA != 1\"), palette=palette)\n",
    "axes[0,0].set_title(\"Ciências Naturais\")\n",
    "axes[0,0].set_xlabel(\"\")\n",
    "axes[0,0].set_ylabel(\"\")\n",
    "\n",
    "sns.boxplot(ax=axes[0,1], x=x, y=\"NU_NOTA_CH\", data=questionario_notas.query(\"TP_ESCOLA != 1\"), palette=palette)\n",
    "axes[0,1].set_title(\"Ciências Humanas\")\n",
    "axes[0,1].set_xlabel(\"\")\n",
    "axes[0,1].set_ylabel(\"\")\n",
    "\n",
    "sns.boxplot(ax=axes[1,0], x=x, y=\"NU_NOTA_LC\", data=questionario_notas.query(\"TP_ESCOLA != 1\"), palette=palette)\n",
    "axes[1,0].set_title(\"Línguas e Códigos\")\n",
    "axes[1,0].set_xlabel(\"\")\n",
    "axes[1,0].set_ylabel(\"\")\n",
    "\n",
    "sns.boxplot(ax=axes[1,1], x=x, y=\"NU_NOTA_MT\", data=questionario_notas.query(\"TP_ESCOLA != 1\"), palette=palette)\n",
    "axes[1,1].set_title(\"Matemática\")\n",
    "axes[1,1].set_xlabel(\"\")\n",
    "axes[1,1].set_ylabel(\"\")\n",
    "\n",
    "plt.show()"
   ]
  },
  {
   "cell_type": "code",
   "execution_count": null,
   "metadata": {},
   "outputs": [],
   "source": [
    "fig, ax = plt.subplots(figsize=(10, 8))\n",
    "fig.suptitle(\"Distribuição de Notas de Redação de acordo com o Tipo de Escola\", fontsize=24)\n",
    "sns.boxplot( x=x, y=\"NU_NOTA_REDACAO\", data=questionario_notas.query(\"TP_ESCOLA != 1\"), palette=palette)\n",
    "ax.set_title(\"Redação\")\n",
    "ax.set_xlabel(\"\")\n",
    "ax.set_ylabel(\"\")\n",
    "plt.show()"
   ]
  },
  {
   "cell_type": "code",
   "execution_count": null,
   "metadata": {},
   "outputs": [],
   "source": [
    "questionario_notas.groupby(\"TP_ESCOLA\")[[\"NU_NOTA_CN\",\"NU_NOTA_CH\",\"NU_NOTA_LC\",\"NU_NOTA_MT\",\"NU_NOTA_REDACAO\"]].count()"
   ]
  },
  {
   "cell_type": "markdown",
   "metadata": {},
   "source": [
    "<h3 align=\"center\">Frequência das Notas por Tipo de Escola</h3> "
   ]
  },
  {
   "cell_type": "code",
   "execution_count": null,
   "metadata": {},
   "outputs": [],
   "source": [
    "fig, axs = plt.subplots(2,4,figsize=(20,10))\n",
    "\n",
    "sns.histplot(ax=axs[0,0],x=\"NU_NOTA_CN\", data=questionario_notas.query(\"TP_ESCOLA == 2\"),kde=True)\n",
    "axs[0,0].set_xlabel(\"\")\n",
    "axs[0,0].set_ylabel(\"\")\n",
    "axs[0,0].set_title(\"Ciências Naturais(Escola Pública)\")\n",
    "sns.histplot(ax=axs[0,1],x=\"NU_NOTA_CN\", data=questionario_notas.query(\"TP_ESCOLA == 3\"),kde=True)\n",
    "axs[0,1].set_xlabel(\"\")\n",
    "axs[0,1].set_ylabel(\"\")\n",
    "axs[0,1].set_title(\"Ciências Naturais(Escola Privada)\")\n",
    "\n",
    "sns.histplot(ax=axs[0,2],x=\"NU_NOTA_CH\", data=questionario_notas.query(\"TP_ESCOLA == 2\"),kde=True)\n",
    "axs[0,2].set_xlabel(\"\")\n",
    "axs[0,2].set_ylabel(\"\")\n",
    "axs[0,2].set_title(\"Ciências Humanas (Escola Pública)\")\n",
    "\n",
    "sns.histplot(ax=axs[0,3],x=\"NU_NOTA_CH\", data=questionario_notas.query(\"TP_ESCOLA == 3\"),kde=True)\n",
    "axs[0,3].set_xlabel(\"\")\n",
    "axs[0,3].set_ylabel(\"\")\n",
    "axs[0,3].set_title(\"Ciências Humanas (Escola Privada)\")\n",
    "\n",
    "sns.histplot(ax=axs[1,0],x=\"NU_NOTA_LC\", data=questionario_notas.query(\"TP_ESCOLA == 2\"),kde=True)\n",
    "axs[1,0].set_xlabel(\"\")\n",
    "axs[1,0].set_ylabel(\"\")\n",
    "axs[1,0].set_title(\"Línguas e Códigos (Escola Pública)\")\n",
    "\n",
    "sns.histplot(ax=axs[1,1],x=\"NU_NOTA_LC\", data=questionario_notas.query(\"TP_ESCOLA == 3\"),kde=True)\n",
    "axs[1,1].set_xlabel(\"\")\n",
    "axs[1,1].set_ylabel(\"\")\n",
    "axs[1,1].set_title(\"Línguas e Códigos (Escola Privada)\")\n",
    "\n",
    "sns.histplot(ax=axs[1,2],x=\"NU_NOTA_MT\", data=questionario_notas.query(\"TP_ESCOLA == 2\"),kde=True)\n",
    "axs[1,2].set_xlabel(\"\")\n",
    "axs[1,2].set_ylabel(\"\")\n",
    "axs[1,2].set_title(\"Matemática (Escola Pública)\")\n",
    "\n",
    "sns.histplot(ax=axs[1,3],x=\"NU_NOTA_MT\", data=questionario_notas.query(\"TP_ESCOLA == 3\"),kde=True)\n",
    "axs[1,3].set_xlabel(\"\")\n",
    "axs[1,3].set_ylabel(\"\")\n",
    "axs[1,3].set_title(\"Matemática (Escola Privada)\")\n",
    "\n",
    "plt.show()"
   ]
  },
  {
   "cell_type": "markdown",
   "metadata": {},
   "source": [
    "<h1 align=\"center\"> Análise dos outliers </h1>"
   ]
  },
  {
   "cell_type": "markdown",
   "metadata": {},
   "source": [
    "<p>Nesta análise, vamos encontrar os outliers geral, independente do grupo de renda a que pertencem. Em seguida, vamos fazer uma análise por renda e cor/raça</p>"
   ]
  },
  {
   "cell_type": "markdown",
   "metadata": {},
   "source": [
    "## Outliers\n",
    "### Limite Inferior = Primeiro Quartil – 1,5 * (Terceiro Quartil – Primeiro Quartil)\n",
    "### Limite Superior = Terceiro Quartil + 1,5 * (Terceiro Quartil – Primeiro Quartil)"
   ]
  },
  {
   "cell_type": "code",
   "execution_count": null,
   "metadata": {},
   "outputs": [],
   "source": [
    "Q1 = notas.quantile([0.25]).reset_index()\n",
    "Q3 = notas.quantile([0.75]).reset_index()"
   ]
  },
  {
   "cell_type": "code",
   "execution_count": null,
   "metadata": {},
   "outputs": [],
   "source": [
    "print(Q3)\n",
    "print(Q1)\n",
    "print(Q3-Q1)"
   ]
  },
  {
   "cell_type": "code",
   "execution_count": null,
   "metadata": {},
   "outputs": [],
   "source": [
    "limite_inferior = Q1 - 1.5 * (Q3 - Q1)\n",
    "limite_superior = Q3 + 1.5 * (Q3 - Q1)"
   ]
  },
  {
   "cell_type": "code",
   "execution_count": null,
   "metadata": {},
   "outputs": [],
   "source": [
    "limite_inferior.drop(columns=\"index\", inplace=True)\n",
    "limite_superior.drop(columns=\"index\", inplace=True)"
   ]
  },
  {
   "cell_type": "code",
   "execution_count": null,
   "metadata": {},
   "outputs": [],
   "source": [
    "print(limite_inferior)\n",
    "print(limite_superior)"
   ]
  },
  {
   "cell_type": "code",
   "execution_count": null,
   "metadata": {},
   "outputs": [],
   "source": [
    "questionario_notas[\"MT_LI\"] = questionario_notas[\"NU_NOTA_MT\"] <= 189\n",
    "questionario_notas[\"CN_LI\"] = questionario_notas[\"NU_NOTA_CN\"] <= 258\n",
    "questionario_notas[\"CH_LI\"] = questionario_notas[\"NU_NOTA_CH\"] <= 314.8\n",
    "questionario_notas[\"LC_LI\"] = questionario_notas[\"NU_NOTA_LC\"] <= 400.75\n",
    "questionario_notas[\"REDACAO_LI\"] = questionario_notas[\"NU_NOTA_REDACAO\"] <= 230.0\n",
    "\n",
    "questionario_notas[\"MT_LS\"] = questionario_notas[\"NU_NOTA_MT\"] >=902.6\n",
    "questionario_notas[\"CN_LS\"] = questionario_notas[\"NU_NOTA_CN\"] >=732.4\n",
    "questionario_notas[\"CH_LS\"] = questionario_notas[\"NU_NOTA_CH\"] >=743.6\n",
    "questionario_notas[\"LC_LS\"] = questionario_notas[\"NU_NOTA_LC\"] >=686.75\n",
    "questionario_notas[\"REDACAO_LS\"] = questionario_notas[\"NU_NOTA_REDACAO\"] >= 950.0\n",
    "\n"
   ]
  },
  {
   "cell_type": "code",
   "execution_count": null,
   "metadata": {},
   "outputs": [],
   "source": [
    "questionario_notas.columns.values"
   ]
  },
  {
   "cell_type": "code",
   "execution_count": null,
   "metadata": {},
   "outputs": [],
   "source": [
    "notas_li = questionario_notas.query(\"MT_LI == True or CN_LI == True or CH_LI == True or LC_LI == True or REDACAO_LI == True\")\\\n",
    "[[\"NU_INSCRICAO\",\"NO_COR_RACA\", \"Q006\", \"NU_NOTA_MT\", \"NU_NOTA_CN\", \"NU_NOTA_CH\", \"NU_NOTA_LC\", \"NU_NOTA_REDACAO\",\n",
    " \"MT_LI\", \"CN_LI\", \"CH_LI\", \"LC_LI\", \"REDACAO_LI\"]]"
   ]
  },
  {
   "cell_type": "code",
   "execution_count": null,
   "metadata": {},
   "outputs": [],
   "source": [
    "notas_li.head(5)"
   ]
  },
  {
   "cell_type": "code",
   "execution_count": null,
   "metadata": {},
   "outputs": [],
   "source": [
    "print(notas_li[notas_li.MT_LI == True][\"NU_NOTA_MT\"].sum())\n",
    "print(notas_li[notas_li.CN_LI == True][\"NU_NOTA_CN\"].sum())\n",
    "print(notas_li[notas_li.CH_LI == True][\"NU_NOTA_CH\"].sum())\n",
    "print(notas_li[notas_li.LC_LI == True][\"NU_NOTA_LC\"].sum())\n",
    "print(notas_li[notas_li.REDACAO_LI == True][\"NU_NOTA_REDACAO\"].sum())"
   ]
  },
  {
   "cell_type": "markdown",
   "metadata": {},
   "source": [
    "<p>As notas de Matemática, Ciências da Natureza e Ciências Humanas que estão abaixo do limite inferior, estão zeradas.</p>"
   ]
  },
  {
   "cell_type": "markdown",
   "metadata": {},
   "source": [
    "<p>Vamos analisar a cor/raça e a relação com a renda familiar e as notas abaixo do limite inferior(outliers)</p>"
   ]
  },
  {
   "cell_type": "code",
   "execution_count": null,
   "metadata": {},
   "outputs": [],
   "source": [
    "total_inscritos_cor_raca = dados_enem.groupby(\"NO_COR_RACA\").count()[\"NU_INSCRICAO\"].reset_index()\n",
    "total_inscritos_cor_raca[\"Porcentagem_Geral\"] = total_inscritos_cor_raca.NU_INSCRICAO / dados_enem.NU_INSCRICAO.count() *100"
   ]
  },
  {
   "cell_type": "code",
   "execution_count": null,
   "metadata": {},
   "outputs": [],
   "source": [
    "total_inscritos_cor_raca.sort_values(by=\"Porcentagem_Geral\", ascending=False)"
   ]
  },
  {
   "cell_type": "code",
   "execution_count": null,
   "metadata": {},
   "outputs": [],
   "source": [
    "quantidade_cor_raca_renda_LC = notas_li[notas_li.LC_LI == True]\\\n",
    ".groupby([\"NO_COR_RACA\", \"Q006\"])[\"NU_INSCRICAO\"]\\\n",
    ".count().reset_index()\n",
    "\n",
    "quantidade_cor_raca_renda_LC.rename(columns={\"NU_INSCRICAO\": \"Quantidade\"\n",
    "                                             , \"NO_COR_RACA\": \"Cor/Raça\"\n",
    "                                             , \"Q006\": \"Renda Mensal\"}, inplace=True)\n",
    "\n",
    "quantidade_cor_raca_renda_Redacao = notas_li[notas_li.REDACAO_LI == True]\\\n",
    ".groupby([\"NO_COR_RACA\", \"Q006\"])[\"NU_INSCRICAO\"]\\\n",
    ".count().reset_index()\n",
    "\n",
    "quantidade_cor_raca_renda_Redacao.rename(columns={\"NU_INSCRICAO\": \"Quantidade\"\n",
    "                                                  , \"NO_COR_RACA\": \"Cor/Raça\"\n",
    "                                                  , \"Q006\": \"Renda Mensal\"}, inplace=True)"
   ]
  },
  {
   "cell_type": "code",
   "execution_count": null,
   "metadata": {},
   "outputs": [],
   "source": [
    "fig, ax = plt.subplots(2,1, figsize=(12,15))\n",
    "sns.scatterplot(ax=ax[0],data=quantidade_cor_raca_renda_LC, x=\"Renda Mensal\", y=\"Quantidade\", hue=\"Cor/Raça\"\n",
    "            , size=\"Quantidade\", sizes=(20,500),palette=\"brg\")\n",
    "sns.scatterplot(ax=ax[1],data=quantidade_cor_raca_renda_Redacao, x=\"Renda Mensal\", y=\"Quantidade\", hue=\"Cor/Raça\"\n",
    "            , size=\"Quantidade\", sizes=(20,500), palette=\"brg\")\n",
    "\n",
    "ax[0].set_title(\"Quantidade de Alunos por Cor/Raça e Renda Familiar com notas em Línguas e Códigos outliers\")\n",
    "ax[1].set_title(\"Quantidade de Alunos por Cor/Raça e Renda Familiar com notas em Redação outliers\")\n",
    "#ax[0].set_xlabel(\"Renda Familiar\")\n",
    "#ax[1].set_xlabel(\"Renda Familiar\")\n",
    "ax[0].set_ylabel(\"Número de Inscritos\")\n",
    "ax[1].set_ylabel(\"Número de Inscritos\")\n",
    "\n",
    "plt.show()"
   ]
  },
  {
   "cell_type": "code",
   "execution_count": null,
   "metadata": {},
   "outputs": [],
   "source": [
    "notas_ls = questionario_notas.query(\"MT_LS == True or CN_LS == True or CH_LS == True or LC_LS == True or REDACAO_LS == True\")\\\n",
    "[[\"NU_INSCRICAO\",\"NO_COR_RACA\", \"Q006\", \"NU_NOTA_MT\", \"NU_NOTA_CN\", \"NU_NOTA_CH\", \"NU_NOTA_LC\", \"NU_NOTA_REDACAO\",\n",
    " \"MT_LS\", \"CN_LS\", \"CH_LS\", \"LC_LS\", \"REDACAO_LS\"]]\n",
    "\n",
    "notas_ls.head()"
   ]
  },
  {
   "cell_type": "code",
   "execution_count": null,
   "metadata": {},
   "outputs": [],
   "source": [
    "print(notas_ls[notas_ls.MT_LS == True][\"NU_NOTA_MT\"].sum())\n",
    "print(notas_ls[notas_ls.CN_LS == True][\"NU_NOTA_CN\"].sum())\n",
    "print(notas_ls[notas_ls.CH_LS == True][\"NU_NOTA_CH\"].sum())\n",
    "print(notas_ls[notas_ls.LC_LS == True][\"NU_NOTA_LC\"].sum())\n",
    "print(notas_ls[notas_ls.REDACAO_LS == True][\"NU_NOTA_REDACAO\"].sum())"
   ]
  },
  {
   "cell_type": "code",
   "execution_count": null,
   "metadata": {},
   "outputs": [],
   "source": [
    "quantidade_cor_raca_renda_MT = notas_ls[notas_ls.MT_LS == True]\\\n",
    ".groupby([\"NO_COR_RACA\", \"Q006\"])[\"NU_INSCRICAO\"]\\\n",
    ".count().reset_index()\n",
    "\n",
    "quantidade_cor_raca_renda_MT.rename(columns={\"NU_INSCRICAO\": \"Quantidade\"\n",
    "                                             , \"NO_COR_RACA\": \"Cor/Raça\"\n",
    "                                             , \"Q006\": \"Renda Mensal\"}, inplace=True)\n",
    "\n",
    "quantidade_cor_raca_renda_CN = notas_ls[notas_ls.CN_LS == True]\\\n",
    ".groupby([\"NO_COR_RACA\", \"Q006\"])[\"NU_INSCRICAO\"]\\\n",
    ".count().reset_index()\n",
    "\n",
    "quantidade_cor_raca_renda_CN.rename(columns={\"NU_INSCRICAO\": \"Quantidade\"\n",
    "                                                  , \"NO_COR_RACA\": \"Cor/Raça\"\n",
    "                                                  , \"Q006\": \"Renda Mensal\"}, inplace=True)\n",
    "\n",
    "quantidade_cor_raca_renda_CH = notas_ls[notas_ls.CH_LS == True]\\\n",
    ".groupby([\"NO_COR_RACA\", \"Q006\"])[\"NU_INSCRICAO\"]\\\n",
    ".count().reset_index()\n",
    "\n",
    "quantidade_cor_raca_renda_CH.rename(columns={\"NU_INSCRICAO\": \"Quantidade\"\n",
    "                                             , \"NO_COR_RACA\": \"Cor/Raça\"\n",
    "                                             , \"Q006\": \"Renda Mensal\"}, inplace=True)\n",
    "\n",
    "quantidade_cor_raca_renda_LC = notas_ls[notas_ls.LC_LS == True]\\\n",
    ".groupby([\"NO_COR_RACA\", \"Q006\"])[\"NU_INSCRICAO\"]\\\n",
    ".count().reset_index()\n",
    "\n",
    "quantidade_cor_raca_renda_LC.rename(columns={\"NU_INSCRICAO\": \"Quantidade\"\n",
    "                                             , \"NO_COR_RACA\": \"Cor/Raça\"\n",
    "                                             , \"Q006\": \"Renda Mensal\"}, inplace=True)\n",
    "\n",
    "quantidade_cor_raca_renda_Redacao = notas_ls[notas_ls.REDACAO_LS == True]\\\n",
    ".groupby([\"NO_COR_RACA\", \"Q006\"])[\"NU_INSCRICAO\"]\\\n",
    ".count().reset_index()\n",
    "\n",
    "quantidade_cor_raca_renda_Redacao.rename(columns={\"NU_INSCRICAO\": \"Quantidade\"\n",
    "                                                  , \"NO_COR_RACA\": \"Cor/Raça\"\n",
    "                                                  , \"Q006\": \"Renda Mensal\"}, inplace=True)"
   ]
  },
  {
   "cell_type": "code",
   "execution_count": null,
   "metadata": {},
   "outputs": [],
   "source": [
    "quantidade_cor_raca_renda_MT.sort_values(by=\"Renda Mensal\", inplace=True)\n",
    "quantidade_cor_raca_renda_CN.sort_values(by=\"Renda Mensal\", inplace=True)\n",
    "quantidade_cor_raca_renda_CH.sort_values(by=\"Renda Mensal\", inplace=True)\n",
    "quantidade_cor_raca_renda_LC.sort_values(by=\"Renda Mensal\", inplace=True)\n",
    "quantidade_cor_raca_renda_Redacao.sort_values(by=\"Renda Mensal\", inplace=True)"
   ]
  },
  {
   "cell_type": "code",
   "execution_count": null,
   "metadata": {},
   "outputs": [],
   "source": [
    "fig, ax = plt.subplots(2,1,figsize=(12,15))\n",
    "sns.scatterplot(ax=ax[0],data=quantidade_cor_raca_renda_MT, x=\"Renda Mensal\", y=\"Quantidade\", hue=\"Cor/Raça\"\n",
    "            , size=\"Quantidade\", sizes=(20,500),palette=\"brg\")\n",
    "ax[0].set_title(\"Quantidade de Alunos por Cor/Raça e Renda Familiar com notas em Matemática outliers\")\n",
    "\n",
    "sns.scatterplot(ax=ax[1],data=quantidade_cor_raca_renda_CN, x=\"Renda Mensal\", y=\"Quantidade\", hue=\"Cor/Raça\"\n",
    "            , size=\"Quantidade\", sizes=(20,500), palette=\"brg\")\n",
    "\n",
    "ax[1].set_title(\"Quantidade de Alunos por Cor/Raça e Renda Familiar com notas em Ciências da Natureza outliers\")\n",
    "plt.show()"
   ]
  },
  {
   "cell_type": "code",
   "execution_count": null,
   "metadata": {},
   "outputs": [],
   "source": [
    "fig, ax = plt.subplots(2,1,figsize=(12,15))\n",
    "sns.scatterplot(ax=ax[0],data=quantidade_cor_raca_renda_CH, x=\"Renda Mensal\", y=\"Quantidade\", hue=\"Cor/Raça\"\n",
    "            , size=\"Quantidade\", sizes=(20,500),palette=\"brg\")\n",
    "ax[0].set_title(\"Quantidade de Alunos por Cor/Raça e Renda Familiar com notas em Ciências Humanas outliers\")\n",
    "\n",
    "sns.scatterplot(ax=ax[1],data=quantidade_cor_raca_renda_LC, x=\"Renda Mensal\", y=\"Quantidade\", hue=\"Cor/Raça\"\n",
    "            , size=\"Quantidade\", sizes=(20,500), palette=\"brg\")\n",
    "\n",
    "ax[1].set_title(\"Quantidade de Alunos por Cor/Raça e Renda Familiar com notas em Línguas e Códigos outliers\")\n",
    "plt.show()\n"
   ]
  },
  {
   "cell_type": "code",
   "execution_count": null,
   "metadata": {},
   "outputs": [],
   "source": [
    "plt.subplots(figsize=(15,8))\n",
    "\n",
    "sns.scatterplot(data=quantidade_cor_raca_renda_Redacao, x=\"Renda Mensal\", y=\"Quantidade\", hue=\"Cor/Raça\"\n",
    "            , size=\"Quantidade\", sizes=(20,500), palette=\"brg\")\n",
    "plt.show"
   ]
  },
  {
   "cell_type": "code",
   "execution_count": null,
   "metadata": {},
   "outputs": [],
   "source": [
    "grau_instrucao_pai = dados_enem.groupby([\"Q001\"]).mean()[[\"NU_NOTA_MT\", \"NU_NOTA_CN\", \"NU_NOTA_CH\", \"NU_NOTA_LC\", \"NU_NOTA_REDACAO\"]].reset_index()\n",
    "grau_instrucao_pai = grau_instrucao_pai.melt(id_vars=[\"Q001\"], value_vars=[\"NU_NOTA_MT\", \"NU_NOTA_CN\", \"NU_NOTA_CH\", \"NU_NOTA_LC\", \"NU_NOTA_REDACAO\"])"
   ]
  },
  {
   "cell_type": "code",
   "execution_count": null,
   "metadata": {},
   "outputs": [],
   "source": [
    "grau_instrucao_mae = dados_enem.groupby([\"Q002\"]).mean()[[\"NU_NOTA_MT\", \"NU_NOTA_CN\", \"NU_NOTA_CH\", \"NU_NOTA_LC\", \"NU_NOTA_REDACAO\"]].reset_index()\n",
    "grau_instrucao_mae = grau_instrucao_mae.melt(id_vars=[\"Q002\"], value_vars=[\"NU_NOTA_MT\", \"NU_NOTA_CN\", \"NU_NOTA_CH\", \"NU_NOTA_LC\", \"NU_NOTA_REDACAO\"])"
   ]
  },
  {
   "cell_type": "code",
   "execution_count": null,
   "metadata": {},
   "outputs": [],
   "source": [
    "grau_instrucao_pai.rename(columns={\"variable\": \"Disciplina\", \"value\": \"Notas\", \"Q001\": \"Grau de Instrução do Pai\"}, inplace=True)\n",
    "grau_instrucao_mae.rename(columns={\"variable\": \"Disciplina\", \"value\": \"Notas\", \"Q002\": \"Grau de Instrução da Mãe\"}, inplace=True)"
   ]
  },
  {
   "cell_type": "code",
   "execution_count": null,
   "metadata": {},
   "outputs": [],
   "source": [
    "fig, ax = plt.subplots(2,1,figsize=(15,12))\n",
    "sns.barplot(ax=ax[0],data=grau_instrucao_pai,x=\"Grau de Instrução do Pai\", y=\"Notas\", hue=\"Disciplina\")\n",
    "sns.barplot(ax=ax[1],data=grau_instrucao_mae,x=\"Grau de Instrução da Mãe\", y=\"Notas\", hue=\"Disciplina\")\n",
    "#fig.legend(bbox_to_anchor=(1.05, 1), loc=2, borderaxespad=0.)"
   ]
  },
  {
   "cell_type": "code",
   "execution_count": null,
   "metadata": {},
   "outputs": [],
   "source": [
    "print(grau_instrucao_pai.head())\n",
    "print(grau_instrucao_mae.head())\n",
    "\n",
    "\n",
    "\n",
    "#f.delaxes(ax= axes[1,2]) "
   ]
  },
  {
   "cell_type": "code",
   "execution_count": null,
   "metadata": {},
   "outputs": [],
   "source": [
    "heat = dados_enem.groupby([\"Q001\", \"Q003\"]).count()[\"NU_INSCRICAO\"].reset_index()\n",
    "heat"
   ]
  },
  {
   "cell_type": "code",
   "execution_count": null,
   "metadata": {},
   "outputs": [],
   "source": [
    "heat = heat.pivot(\"Q001\", \"Q003\", \"NU_INSCRICAO\")\n",
    "heat"
   ]
  },
  {
   "cell_type": "code",
   "execution_count": null,
   "metadata": {},
   "outputs": [],
   "source": [
    "sns.heatmap(data=heat, robust=True)"
   ]
  }
 ],
 "metadata": {
  "kernelspec": {
   "display_name": "Enem2019",
   "language": "python",
   "name": "enem2019"
  },
  "language_info": {
   "codemirror_mode": {
    "name": "ipython",
    "version": 3
   },
   "file_extension": ".py",
   "mimetype": "text/x-python",
   "name": "python",
   "nbconvert_exporter": "python",
   "pygments_lexer": "ipython3",
   "version": "3.8.5"
  },
  "toc-autonumbering": true,
  "toc-showcode": false,
  "toc-showmarkdowntxt": false
 },
 "nbformat": 4,
 "nbformat_minor": 4
}
